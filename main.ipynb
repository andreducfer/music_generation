{
 "cells": [
  {
   "cell_type": "code",
   "execution_count": 8,
   "id": "initial_id",
   "metadata": {
    "collapsed": true,
    "ExecuteTime": {
     "end_time": "2023-08-23T20:45:20.763512900Z",
     "start_time": "2023-08-23T20:45:20.752691200Z"
    }
   },
   "outputs": [],
   "source": [
    "import pandas as pd\n",
    "from music21 import *\n",
    "\n",
    "environment.set('musescoreDirectPNGPath', 'C:\\\\Program Files\\\\MuseScore 4\\\\bin\\\\MuseScore4.exe')"
   ]
  },
  {
   "cell_type": "code",
   "execution_count": 9,
   "outputs": [
    {
     "data": {
      "text/plain": "   canonical_composer                canonical_title       split  year  \\\n0          Alban Berg                   Sonata Op. 1       train  2018   \n1          Alban Berg                   Sonata Op. 1       train  2008   \n2          Alban Berg                   Sonata Op. 1       train  2017   \n3  Alexander Scriabin  24 Preludes Op. 11, No. 13-24       train  2004   \n4  Alexander Scriabin               3 Etudes, Op. 65  validation  2006   \n\n                                       midi_filename  \\\n0  2018/MIDI-Unprocessed_Chamber3_MID--AUDIO_10_R...   \n1  2008/MIDI-Unprocessed_03_R2_2008_01-03_ORIG_MI...   \n2  2017/MIDI-Unprocessed_066_PIANO066_MID--AUDIO-...   \n3  2004/MIDI-Unprocessed_XP_21_R1_2004_01_ORIG_MI...   \n4  2006/MIDI-Unprocessed_17_R1_2006_01-06_ORIG_MI...   \n\n                                      audio_filename    duration  \n0  2018/MIDI-Unprocessed_Chamber3_MID--AUDIO_10_R...  698.661160  \n1  2008/MIDI-Unprocessed_03_R2_2008_01-03_ORIG_MI...  759.518471  \n2  2017/MIDI-Unprocessed_066_PIANO066_MID--AUDIO-...  464.649433  \n3  2004/MIDI-Unprocessed_XP_21_R1_2004_01_ORIG_MI...  872.640588  \n4  2006/MIDI-Unprocessed_17_R1_2006_01-06_ORIG_MI...  397.857508  ",
      "text/html": "<div>\n<style scoped>\n    .dataframe tbody tr th:only-of-type {\n        vertical-align: middle;\n    }\n\n    .dataframe tbody tr th {\n        vertical-align: top;\n    }\n\n    .dataframe thead th {\n        text-align: right;\n    }\n</style>\n<table border=\"1\" class=\"dataframe\">\n  <thead>\n    <tr style=\"text-align: right;\">\n      <th></th>\n      <th>canonical_composer</th>\n      <th>canonical_title</th>\n      <th>split</th>\n      <th>year</th>\n      <th>midi_filename</th>\n      <th>audio_filename</th>\n      <th>duration</th>\n    </tr>\n  </thead>\n  <tbody>\n    <tr>\n      <th>0</th>\n      <td>Alban Berg</td>\n      <td>Sonata Op. 1</td>\n      <td>train</td>\n      <td>2018</td>\n      <td>2018/MIDI-Unprocessed_Chamber3_MID--AUDIO_10_R...</td>\n      <td>2018/MIDI-Unprocessed_Chamber3_MID--AUDIO_10_R...</td>\n      <td>698.661160</td>\n    </tr>\n    <tr>\n      <th>1</th>\n      <td>Alban Berg</td>\n      <td>Sonata Op. 1</td>\n      <td>train</td>\n      <td>2008</td>\n      <td>2008/MIDI-Unprocessed_03_R2_2008_01-03_ORIG_MI...</td>\n      <td>2008/MIDI-Unprocessed_03_R2_2008_01-03_ORIG_MI...</td>\n      <td>759.518471</td>\n    </tr>\n    <tr>\n      <th>2</th>\n      <td>Alban Berg</td>\n      <td>Sonata Op. 1</td>\n      <td>train</td>\n      <td>2017</td>\n      <td>2017/MIDI-Unprocessed_066_PIANO066_MID--AUDIO-...</td>\n      <td>2017/MIDI-Unprocessed_066_PIANO066_MID--AUDIO-...</td>\n      <td>464.649433</td>\n    </tr>\n    <tr>\n      <th>3</th>\n      <td>Alexander Scriabin</td>\n      <td>24 Preludes Op. 11, No. 13-24</td>\n      <td>train</td>\n      <td>2004</td>\n      <td>2004/MIDI-Unprocessed_XP_21_R1_2004_01_ORIG_MI...</td>\n      <td>2004/MIDI-Unprocessed_XP_21_R1_2004_01_ORIG_MI...</td>\n      <td>872.640588</td>\n    </tr>\n    <tr>\n      <th>4</th>\n      <td>Alexander Scriabin</td>\n      <td>3 Etudes, Op. 65</td>\n      <td>validation</td>\n      <td>2006</td>\n      <td>2006/MIDI-Unprocessed_17_R1_2006_01-06_ORIG_MI...</td>\n      <td>2006/MIDI-Unprocessed_17_R1_2006_01-06_ORIG_MI...</td>\n      <td>397.857508</td>\n    </tr>\n  </tbody>\n</table>\n</div>"
     },
     "execution_count": 9,
     "metadata": {},
     "output_type": "execute_result"
    }
   ],
   "source": [
    "df = pd.read_csv(\"data\\maestro-v3.0.0-midi\\maestro-v3.0.0\\maestro-v3.0.0.csv\")\n",
    "df.head()"
   ],
   "metadata": {
    "collapsed": false,
    "ExecuteTime": {
     "end_time": "2023-08-23T20:45:21.954678Z",
     "start_time": "2023-08-23T20:45:21.928810900Z"
    }
   },
   "id": "e3892c9e467e17a5"
  },
  {
   "cell_type": "code",
   "execution_count": 16,
   "outputs": [
    {
     "data": {
      "text/plain": "<music21.key.Key of a minor>"
     },
     "execution_count": 16,
     "metadata": {},
     "output_type": "execute_result"
    }
   ],
   "source": [
    "s = corpus.parse('bach/bwv65.2.xml')\n",
    "s.analyze('key')"
   ],
   "metadata": {
    "collapsed": false,
    "ExecuteTime": {
     "end_time": "2023-08-23T21:29:56.236935300Z",
     "start_time": "2023-08-23T21:29:55.896424Z"
    }
   },
   "id": "69711a2b62ef4809"
  },
  {
   "cell_type": "code",
   "execution_count": null,
   "outputs": [],
   "source": [
    "s.show('midi')"
   ],
   "metadata": {
    "collapsed": false
   },
   "id": "ebcfbd34363fb26e"
  },
  {
   "cell_type": "code",
   "execution_count": null,
   "outputs": [],
   "source": [],
   "metadata": {
    "collapsed": false
   },
   "id": "94ba222f8837e072"
  }
 ],
 "metadata": {
  "kernelspec": {
   "display_name": "Python 3",
   "language": "python",
   "name": "python3"
  },
  "language_info": {
   "codemirror_mode": {
    "name": "ipython",
    "version": 2
   },
   "file_extension": ".py",
   "mimetype": "text/x-python",
   "name": "python",
   "nbconvert_exporter": "python",
   "pygments_lexer": "ipython2",
   "version": "2.7.6"
  }
 },
 "nbformat": 4,
 "nbformat_minor": 5
}
